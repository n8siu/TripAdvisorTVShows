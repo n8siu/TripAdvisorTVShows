{
 "cells": [
  {
   "cell_type": "code",
   "execution_count": 31,
   "metadata": {},
   "outputs": [],
   "source": [
    "import csv\n",
    "import re\n",
    "import nltk\n",
    "import datetime\n",
    "#nltk.download('stopwords')\n",
    "import time\n",
    "import pandas as pd\n",
    "import os, sys\n",
    "import matplotlib.pylab as plt\n",
    "stopwords = nltk.corpus.stopwords.words(\"english\")\n",
    "from afinn import Afinn\n",
    "from datetime import datetime, timedelta\n",
    "CALENDAR = [\"\", 'January', 'February', 'March', 'April', 'May', 'June', 'July', 'August', 'September', 'October', 'November', 'December']\n",
    "DAYS = 365\n",
    "afinn = Afinn()\n",
    "\n",
    "#Creates dicts that hold the restaurants and their airdates\n",
    "DDD_shows = {}\n",
    "MvF_shows = {}\n",
    "Best_shows = {}"
   ]
  },
  {
   "cell_type": "code",
   "execution_count": 44,
   "metadata": {},
   "outputs": [],
   "source": [
    "Dates_and = {}\n",
    "Dates_and['1'] = 'January'\n",
    "Dates_and['01'] = 'January'\n",
    "Dates_and['2'] = 'February'\n",
    "Dates_and['3'] = 'March'\n",
    "Dates_and['4'] = 'April'\n",
    "Dates_and['5'] = 'May'\n",
    "Dates_and['6'] = 'June'\n",
    "Dates_and['7'] = 'July'\n",
    "Dates_and['8'] = 'August'\n",
    "Dates_and['9'] = 'September'\n",
    "Dates_and['10'] = 'October'\n",
    "Dates_and['11'] = 'November'\n",
    "Dates_and['12'] = 'December'"
   ]
  },
  {
   "cell_type": "code",
   "execution_count": 32,
   "metadata": {},
   "outputs": [],
   "source": [
    "path = '../Desktop/ManVSFood'\n",
    "path2 = '../Desktop/DinersDriveIns'\n",
    "path3 = '../Desktop/BestThing'\n",
    "\n",
    "#allows us to iterate through all of the files within our folder of csv's\n",
    "def matchlist_iter(folder_path):\n",
    "    files = [file_path for file_path in os.listdir(folder_path) if file_path.endswith('.csv')]\n",
    "    return files\n",
    "snails = matchlist_iter(path)\n",
    "turtles = matchlist_iter(path2)\n",
    "tortoise = matchlist_iter(path3)\n",
    "\n"
   ]
  },
  {
   "cell_type": "code",
   "execution_count": 33,
   "metadata": {},
   "outputs": [],
   "source": [
    "#fills in the dictionaries made earlier\n",
    "def shows_and_dates(filename):\n",
    "    with open(filename) as restFile:\n",
    "        dict = {}\n",
    "        for rows in restFile:\n",
    "            tokens = rows.split(',')\n",
    "            cats = tokens[2].split('\\n')\n",
    "            dict[tokens[0]]= cats[0]\n",
    "        dict.pop('rest_name')\n",
    "        return dict\n",
    "        "
   ]
  },
  {
   "cell_type": "code",
   "execution_count": 34,
   "metadata": {},
   "outputs": [],
   "source": [
    "#Converts the names of the csv files into the style of the keys\n",
    "def wordToDict(name):\n",
    "    tokens = name.split('_reviews')\n",
    "    for i in range(len(tokens[0])):\n",
    "        if tokens[0][i-1:i+2].count(\" _ \"):\n",
    "            tokens[0] = tokens[0][:i]+'&'+tokens[0][i+1:]\n",
    "    for i in range(len(tokens[0])):\n",
    "        if tokens[0][i].count('_'):\n",
    "            tokens[0] = tokens[0][:i]+\"'\"+tokens[0][i+1:]\n",
    "    return tokens[0]"
   ]
  },
  {
   "cell_type": "code",
   "execution_count": 35,
   "metadata": {},
   "outputs": [],
   "source": [
    "DDD_shows = shows_and_dates('DinersDriveInsAndDives - Sheet1.csv')\n",
    "MvF_shows = shows_and_dates('ManVsFood - Sheet1.csv')\n",
    "Best_shows = shows_and_dates('BestThingIEverAte - Sheet1.csv')"
   ]
  },
  {
   "cell_type": "code",
   "execution_count": 36,
   "metadata": {},
   "outputs": [],
   "source": [
    "def get_clean_words(markup):\n",
    "    def _isnum(w):\n",
    "        try:\n",
    "            int(w)\n",
    "            return True\n",
    "        except ValueError:\n",
    "            return False\n",
    "        \n",
    "    # Load her markup\n",
    "\n",
    "\n",
    "    # Remove table and external links\n",
    "    markup_text = re.sub(r'\\{\\{[\\s\\S]*?\\}\\}', '', markup)\n",
    "\n",
    "    # Remove category links\n",
    "    markup_text = re.sub(r'\\[\\[Category.+\\]\\]', '', markup_text)\n",
    "\n",
    "    # Set words to lowercase and remove them if they are stop words\n",
    "    words = [w.lower() for w in re.findall('\\w+', markup_text) if w.lower() not in stopwords]\n",
    "\n",
    "    # Remove numbers\n",
    "    words = [w for w in words if not _isnum(w)]\n",
    "\n",
    "    return words"
   ]
  },
  {
   "cell_type": "code",
   "execution_count": 37,
   "metadata": {},
   "outputs": [],
   "source": [
    "#extract the dates from each item passed in\n",
    "def filestuff(filename, row):\n",
    "    with open(filename) as file:\n",
    "        for line in file:\n",
    "            if line == row:\n",
    "                index = row.find('Reviewed', -30)\n",
    "                data = line[index+9:-2].strip(\"'\")\n",
    "\n",
    "                if 'yesterday' in data:\n",
    "                    date = datetime.now() - timedelta(days=1)\n",
    "                elif 'today' in data:\n",
    "\n",
    "                    date = datetime.now()\n",
    "                elif 'days' in data:\n",
    "\n",
    "                    num = int(data[0])\n",
    "                    date = datetime.now()-timedelta(days=num)\n",
    "                elif 'week' in data:\n",
    "\n",
    "                    num = int(data[0]) *7\n",
    "                    date = datetime.now() -timedelta(days=num)\n",
    "                    \n",
    "                else:\n",
    "                    data = data.replace(',','').split(' ')\n",
    "                    if data[0] in CALENDAR:\n",
    "                        date = datetime(int(data[2]), int(CALENDAR.index(data[0])), int(data[1]))\n",
    "                        \n",
    "                return date\n",
    "                    \n",
    "               \n",
    "\n",
    "    "
   ]
  },
  {
   "cell_type": "code",
   "execution_count": 38,
   "metadata": {},
   "outputs": [],
   "source": [
    "def afinn_calc_before(filename, now, restName):\n",
    "    afinn_total = 0\n",
    "    #gets the air date of the restaurant episode\n",
    "    name = wordToDict(now)\n",
    "    cats = restName[name]\n",
    "    data = cats.replace(\"/\",\" \").split(\" \")\n",
    "    if Dates_and[data[0]] in CALENDAR:\n",
    "        \n",
    "        date = datetime(int(data[2]), int(CALENDAR.index(Dates_and[data[0]])), int(data[1]))\n",
    "    d1 = date\n",
    "\n",
    "    with open(filename) as csv_file:\n",
    "        #gets the review itself\n",
    "        num_of_reviews=0\n",
    "        for row in csv_file:\n",
    "            \n",
    "            if(row[6].count('b')==1):\n",
    "                tokens = row[8:]\n",
    "                \n",
    "            elif(row[8].count(\"'\")==1):\n",
    "                tokens = row[9:]\n",
    "                \n",
    "            else:\n",
    "                tokens = row[10:]\n",
    "                \n",
    "            num_of_reviews+=1\n",
    "            mats= tokens.split('\"b')\n",
    "            cows = mats[0][:-3]\n",
    "            #gets date of review\n",
    "            try:\n",
    "                d2 = filestuff(filename, row)\n",
    "            except:\n",
    "                d2 = datetime(2019, 10, 25)\n",
    "            #checks that date is within 1 year range\n",
    "            if d1<d2 and d2>(d1-timedelta(days=DAYS)):\n",
    "\n",
    "                cleanWord = get_clean_words(cows)\n",
    "                currReview = \"\"\n",
    "                for j in cleanWord:\n",
    "                    currReview =currReview+j+\" \"\n",
    "\n",
    "                afinn_total+=afinn.score(currReview)/len(currReview)\n",
    "\n",
    "        afinn_total/=num_of_reviews\n",
    "        return afinn_total\n",
    "      \n"
   ]
  },
  {
   "cell_type": "code",
   "execution_count": 39,
   "metadata": {},
   "outputs": [],
   "source": [
    "def afinn_calc_after(filename, now, restName):\n",
    "    afinn_total = 0\n",
    "    #gets the air date of the restaurant episode\n",
    "    name = wordToDict(now)\n",
    "    cats = restName[name]\n",
    "    data = cats.replace(\"/\",\" \").split(\" \")\n",
    "\n",
    "    if Dates_and[data[0]] in CALENDAR:\n",
    "        if len(data[2])<4:\n",
    "            data[2] = \"20\"+data[2]\n",
    "        date = datetime(int(data[2]), int(CALENDAR.index(Dates_and[data[0]])), int(data[1]))\n",
    "    d1 = date\n",
    "    with open(filename) as csv_file:\n",
    "         #gets the review itself\n",
    "        num_of_reviews=0\n",
    "        for row in csv_file:\n",
    "            \n",
    "            if(row[6].count('b')==1):\n",
    "                tokens = row[8:]\n",
    "                \n",
    "            elif(row[8].count(\"'\")==1):\n",
    "                tokens = row[9:]\n",
    "                \n",
    "            else:\n",
    "                tokens = row[10:]\n",
    "                \n",
    "            num_of_reviews+=1\n",
    "            mats= tokens.split('\"b')\n",
    "            cows = mats[0][:-3]\n",
    "             #gets date of review\n",
    "            try:\n",
    "                d2 = filestuff(filename, row)\n",
    "            except:\n",
    "                d2 = datetime(2019, 10, 25)\n",
    "               #checks that date is within 1 year range\n",
    "            if d1<d2 and d2<(d1+timedelta(days=DAYS)):\n",
    "               \n",
    "                cleanWord = get_clean_words(cows)\n",
    "                currReview = \"\"\n",
    "                for j in cleanWord:\n",
    "                    currReview =currReview+j+\" \"\n",
    "\n",
    "                afinn_total+=afinn.score(currReview)/len(currReview)\n",
    "\n",
    "        \n",
    "        afinn_total/=num_of_reviews\n",
    "        return afinn_total\n",
    "      "
   ]
  },
  {
   "cell_type": "code",
   "execution_count": 40,
   "metadata": {},
   "outputs": [],
   "source": [
    "#runs everything with everything\n",
    "def before_and_after(filename, coreList, restName, show):\n",
    "    #makes list\n",
    "    preShow = []\n",
    "    postShow = []\n",
    "    before_show = 0\n",
    "    after_show = 0\n",
    "  \n",
    "    for i in coreList:\n",
    "        pre = afinn_calc_before(filename+i, i, restName)\n",
    "        post = afinn_calc_after(filename+i, i, restName)\n",
    "        preShow.append(pre)\n",
    "        postShow.append(post)\n",
    "        before_show += pre\n",
    "        after_show += post\n",
    "    print(before_show)\n",
    "    print(after_show)\n",
    "    print(before_show-after_show)\n",
    "    plt.figure()\n",
    "    plt.hist(preShow)\n",
    "    plt.title(\"Before %s\" %(show))\n",
    "    plt.xlabel(\"Sentiment\")\n",
    "    plt.xlim(0, 0.07)\n",
    "    plt.ylim(0,25)\n",
    "    \n",
    "    plt.figure()\n",
    "    plt.hist(postShow)\n",
    "    plt.title(\"After %s\" %(show))\n",
    "    plt.xlabel(\"Sentiment\")\n",
    "    plt.ylim(0,25)\n",
    "\n",
    "        \n",
    "\n",
    "    "
   ]
  },
  {
   "cell_type": "code",
   "execution_count": 41,
   "metadata": {},
   "outputs": [
    {
     "name": "stdout",
     "output_type": "stream",
     "text": [
      "1.318882141884428\n",
      "0.10490199025635555\n",
      "1.2139801516280726\n"
     ]
    },
    {
     "data": {
      "image/png": "[encoded data removed]",
      "text/plain": [
       "<Figure size 432x288 with 1 Axes>"
      ]
     },
     "metadata": {
      "needs_background": "light"
     },
     "output_type": "display_data"
    },
    {
     "data": {
      "image/png": "[encoded data removed]",
      "text/plain": [
       "<Figure size 432x288 with 1 Axes>"
      ]
     },
     "metadata": {
      "needs_background": "light"
     },
     "output_type": "display_data"
    }
   ],
   "source": [
    "before_and_after('../Desktop/ManVSFood/', snails, MvF_shows, \"Man VS. Food\")\n"
   ]
  },
  {
   "cell_type": "code",
   "execution_count": 42,
   "metadata": {},
   "outputs": [
    {
     "name": "stdout",
     "output_type": "stream",
     "text": [
      "2.32188955617559\n",
      "0.8055576935048816\n",
      "1.5163318626707085\n"
     ]
    },
    {
     "data": {
      "image/png": "[encoded data removed]",
      "text/plain": [
       "<Figure size 432x288 with 1 Axes>"
      ]
     },
     "metadata": {
      "needs_background": "light"
     },
     "output_type": "display_data"
    },
    {
     "data": {
      "image/png": "[encoded data removed]",
      "text/plain": [
       "<Figure size 432x288 with 1 Axes>"
      ]
     },
     "metadata": {
      "needs_background": "light"
     },
     "output_type": "display_data"
    }
   ],
   "source": [
    "before_and_after('../Desktop/DinersDriveIns/', turtles, DDD_shows, \"Diners Drive Ins and Dives\")"
   ]
  },
  {
   "cell_type": "code",
   "execution_count": 43,
   "metadata": {},
   "outputs": [
    {
     "name": "stdout",
     "output_type": "stream",
     "text": [
      "1.9289996603235895\n",
      "0.07168960624836798\n",
      "1.8573100540752214\n"
     ]
    },
    {
     "data": {
      "image/png": "[encoded data removed]",
      "text/plain": [
       "<Figure size 432x288 with 1 Axes>"
      ]
     },
     "metadata": {
      "needs_background": "light"
     },
     "output_type": "display_data"
    },
    {
     "data": {
      "image/png": "[encoded data removed]",
      "text/plain": [
       "<Figure size 432x288 with 1 Axes>"
      ]
     },
     "metadata": {
      "needs_background": "light"
     },
     "output_type": "display_data"
    }
   ],
   "source": [
    "before_and_after('../Desktop/BestThing/', tortoise, Best_shows, \"Best Thing I Ever Ate\")"
   ]
  }
 ],
 "metadata": {
  "kernelspec": {
   "display_name": "Python 3",
   "language": "python",
   "name": "python3"
  },
  "language_info": {
   "codemirror_mode": {
    "name": "ipython",
    "version": 3
   },
   "file_extension": ".py",
   "mimetype": "text/x-python",
   "name": "python",
   "nbconvert_exporter": "python",
   "pygments_lexer": "ipython3",
   "version": "3.7.3"
  }
 },
 "nbformat": 4,
 "nbformat_minor": 2
}
